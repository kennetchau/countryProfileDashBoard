{
 "cells": [
  {
   "cell_type": "code",
   "execution_count": 1,
   "id": "dc8caeba-d696-465a-921c-aca337acbc7e",
   "metadata": {},
   "outputs": [],
   "source": [
    "## Data analysis section for the code"
   ]
  },
  {
   "cell_type": "code",
   "execution_count": 2,
   "id": "b44e65ed-350b-4c8c-b53e-d3426d6c00e6",
   "metadata": {},
   "outputs": [],
   "source": [
    "import pandas as pd\n",
    "import re"
   ]
  },
  {
   "cell_type": "markdown",
   "metadata": {},
   "source": []
  },
  {
   "cell_type": "code",
   "execution_count": 3,
   "id": "631972c3-2150-4adf-b25e-072b097296b2",
   "metadata": {},
   "outputs": [],
   "source": [
    "df = pd.read_excel(\"data/WorldBankData.xlsx\")"
   ]
  },
  {
   "cell_type": "code",
   "execution_count": 4,
   "id": "cf3d69b0-aff7-407e-88b7-6377295426bd",
   "metadata": {},
   "outputs": [
    {
     "name": "stderr",
     "output_type": "stream",
     "text": [
      "<>:3: SyntaxWarning: invalid escape sequence '\\['\n",
      "<>:3: SyntaxWarning: invalid escape sequence '\\['\n",
      "/tmp/ipykernel_19890/4104257547.py:3: SyntaxWarning: invalid escape sequence '\\['\n",
      "  pattern = '\\[YR[0-9]+\\]'\n"
     ]
    },
    {
     "data": {
      "text/plain": [
       "Index(['Country Name', 'Country Code',  'Series Name',  'Series Code',\n",
       "                 2008,           2009,           2010,           2011,\n",
       "                 2012,           2013,           2014,           2015,\n",
       "                 2016,           2017,           2018,           2019,\n",
       "                 2020,           2021,           2022],\n",
       "      dtype='object')"
      ]
     },
     "execution_count": 4,
     "metadata": {},
     "output_type": "execute_result"
    }
   ],
   "source": [
    "# Rename the columns of the year\n",
    "\n",
    "pattern = '\\[YR[0-9]+\\]'\n",
    "for col in df.columns:\n",
    "    if re.search(pattern, col) != None:\n",
    "        results = re.sub(pattern,'',col)\n",
    "        results = int(results)\n",
    "        df = df.rename(columns={col:results})\n",
    "\n",
    "df.columns"
   ]
  },
  {
   "cell_type": "code",
   "execution_count": 5,
   "metadata": {},
   "outputs": [],
   "source": [
    "# Unpivot the table and save the new df as df2 \n",
    "\n",
    "df2 = pd.melt(df, id_vars=['Country Name', 'Country Code', 'Series Name', 'Series Code'] )"
   ]
  },
  {
   "cell_type": "code",
   "execution_count": 6,
   "metadata": {},
   "outputs": [],
   "source": [
    "# rename the year column to Year\n",
    "\n",
    "df2 = df2.rename(columns={'variable': \"Year\"})"
   ]
  },
  {
   "cell_type": "code",
   "execution_count": 7,
   "metadata": {},
   "outputs": [],
   "source": [
    "df2['value'] = df2['value'].replace('..','')\n",
    "df2['value'] = pd.to_numeric(df2['value'])"
   ]
  },
  {
   "cell_type": "code",
   "execution_count": 6,
   "metadata": {},
   "outputs": [],
   "source": [
    "# Save it to a JSON file for future access\n",
    "\n",
    "df2.to_json('data/CountryData.json')"
   ]
  },
  {
   "cell_type": "code",
   "execution_count": 8,
   "metadata": {},
   "outputs": [
    {
     "data": {
      "text/plain": [
       "Index(['Country Name', 'Country Code', 'Series Name', 'Series Code', 'Year',\n",
       "       'value'],\n",
       "      dtype='object')"
      ]
     },
     "execution_count": 8,
     "metadata": {},
     "output_type": "execute_result"
    }
   ],
   "source": [
    "df2.columns"
   ]
  },
  {
   "cell_type": "code",
   "execution_count": 16,
   "metadata": {},
   "outputs": [
    {
     "data": {
      "text/html": [
       "<div>\n",
       "<style scoped>\n",
       "    .dataframe tbody tr th:only-of-type {\n",
       "        vertical-align: middle;\n",
       "    }\n",
       "\n",
       "    .dataframe tbody tr th {\n",
       "        vertical-align: top;\n",
       "    }\n",
       "\n",
       "    .dataframe thead th {\n",
       "        text-align: right;\n",
       "    }\n",
       "</style>\n",
       "<table border=\"1\" class=\"dataframe\">\n",
       "  <thead>\n",
       "    <tr style=\"text-align: right;\">\n",
       "      <th></th>\n",
       "      <th>Series Code</th>\n",
       "      <th>Series Name</th>\n",
       "    </tr>\n",
       "  </thead>\n",
       "  <tbody>\n",
       "    <tr>\n",
       "      <th>0</th>\n",
       "      <td>EN.ATM.CO2E.KD.GD</td>\n",
       "      <td>CO2 emissions (kg per 2015 US$ of GDP)</td>\n",
       "    </tr>\n",
       "    <tr>\n",
       "      <th>1</th>\n",
       "      <td>NY.GDP.MKTP.KD</td>\n",
       "      <td>GDP (constant 2015 US$)</td>\n",
       "    </tr>\n",
       "    <tr>\n",
       "      <th>2</th>\n",
       "      <td>SP.URB.TOTL</td>\n",
       "      <td>Urban population</td>\n",
       "    </tr>\n",
       "    <tr>\n",
       "      <th>3</th>\n",
       "      <td>SP.RUR.TOTL</td>\n",
       "      <td>Rural population</td>\n",
       "    </tr>\n",
       "    <tr>\n",
       "      <th>4</th>\n",
       "      <td>SM.POP.REFG.OR</td>\n",
       "      <td>Refugee population by country or territory of ...</td>\n",
       "    </tr>\n",
       "  </tbody>\n",
       "</table>\n",
       "</div>"
      ],
      "text/plain": [
       "         Series Code                                        Series Name\n",
       "0  EN.ATM.CO2E.KD.GD             CO2 emissions (kg per 2015 US$ of GDP)\n",
       "1     NY.GDP.MKTP.KD                            GDP (constant 2015 US$)\n",
       "2        SP.URB.TOTL                                   Urban population\n",
       "3        SP.RUR.TOTL                                   Rural population\n",
       "4     SM.POP.REFG.OR  Refugee population by country or territory of ..."
      ]
     },
     "execution_count": 16,
     "metadata": {},
     "output_type": "execute_result"
    }
   ],
   "source": [
    "df[['Series Code','Series Name']].drop_duplicates()\n"
   ]
  },
  {
   "cell_type": "code",
   "execution_count": 13,
   "id": "f105be14-8ef7-42de-90ea-3076eac12d6d",
   "metadata": {},
   "outputs": [
    {
     "name": "stdout",
     "output_type": "stream",
     "text": [
      "EN.ATM.CO2E.KD.GD ['CO2 emissions (kg per 2015 US$ of GDP)']\n",
      "NY.GDP.MKTP.KD ['GDP (constant 2015 US$)']\n",
      "SP.URB.TOTL ['Urban population']\n",
      "SP.RUR.TOTL ['Rural population']\n",
      "SM.POP.REFG.OR ['Refugee population by country or territory of origin']\n"
     ]
    }
   ],
   "source": [
    "for item in df2['Series Code'].unique():\n",
    "    print(item, df.loc[df['Series Code'] == item]['Series Name'].unique())"
   ]
  },
  {
   "cell_type": "code",
   "execution_count": null,
   "metadata": {},
   "outputs": [],
   "source": []
  }
 ],
 "metadata": {
  "kernelspec": {
   "display_name": "Python 3 (ipykernel)",
   "language": "python",
   "name": "python3"
  },
  "language_info": {
   "codemirror_mode": {
    "name": "ipython",
    "version": 3
   },
   "file_extension": ".py",
   "mimetype": "text/x-python",
   "name": "python",
   "nbconvert_exporter": "python",
   "pygments_lexer": "ipython3",
   "version": "3.12.0"
  }
 },
 "nbformat": 4,
 "nbformat_minor": 5
}
