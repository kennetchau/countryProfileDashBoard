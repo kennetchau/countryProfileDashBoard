{
 "cells": [
  {
   "cell_type": "code",
   "execution_count": 3,
   "id": "dc8caeba-d696-465a-921c-aca337acbc7e",
   "metadata": {},
   "outputs": [],
   "source": [
    "## Data analysis section for the code"
   ]
  },
  {
   "cell_type": "code",
   "execution_count": 1,
   "id": "b44e65ed-350b-4c8c-b53e-d3426d6c00e6",
   "metadata": {},
   "outputs": [],
   "source": [
    "import pandas as pd\n",
    "import re"
   ]
  },
  {
   "cell_type": "markdown",
   "metadata": {},
   "source": []
  },
  {
   "cell_type": "code",
   "execution_count": 2,
   "id": "631972c3-2150-4adf-b25e-072b097296b2",
   "metadata": {},
   "outputs": [],
   "source": [
    "df = pd.read_excel(\"data/WorldBankData.xlsx\")"
   ]
  },
  {
   "cell_type": "code",
   "execution_count": 3,
   "id": "cf3d69b0-aff7-407e-88b7-6377295426bd",
   "metadata": {},
   "outputs": [
    {
     "name": "stderr",
     "output_type": "stream",
     "text": [
      "<>:3: SyntaxWarning: invalid escape sequence '\\['\n",
      "<>:3: SyntaxWarning: invalid escape sequence '\\['\n",
      "/tmp/ipykernel_17235/4104257547.py:3: SyntaxWarning: invalid escape sequence '\\['\n",
      "  pattern = '\\[YR[0-9]+\\]'\n"
     ]
    },
    {
     "data": {
      "text/plain": [
       "Index(['Country Name', 'Country Code',  'Series Name',  'Series Code',\n",
       "                 2008,           2009,           2010,           2011,\n",
       "                 2012,           2013,           2014,           2015,\n",
       "                 2016,           2017,           2018,           2019,\n",
       "                 2020,           2021,           2022],\n",
       "      dtype='object')"
      ]
     },
     "execution_count": 3,
     "metadata": {},
     "output_type": "execute_result"
    }
   ],
   "source": [
    "# Rename the columns of the year\n",
    "\n",
    "pattern = '\\[YR[0-9]+\\]'\n",
    "for col in df.columns:\n",
    "    if re.search(pattern, col) != None:\n",
    "        results = re.sub(pattern,'',col)\n",
    "        results = int(results)\n",
    "        df = df.rename(columns={col:results})\n",
    "\n",
    "df.columns"
   ]
  },
  {
   "cell_type": "code",
   "execution_count": 4,
   "metadata": {},
   "outputs": [],
   "source": [
    "# Unpivot the table and save the new df as df2 \n",
    "\n",
    "df2 = pd.melt(df, id_vars=['Country Name', 'Country Code', 'Series Name', 'Series Code'] )"
   ]
  },
  {
   "cell_type": "code",
   "execution_count": 5,
   "metadata": {},
   "outputs": [],
   "source": [
    "# rename the year column to Year\n",
    "\n",
    "df2 = df2.rename(columns={'variable': \"Year\"})"
   ]
  },
  {
   "cell_type": "code",
   "execution_count": 6,
   "metadata": {},
   "outputs": [],
   "source": [
    "# Save it to a JSON file for future access\n",
    "\n",
    "df2.to_json('data/CountryData.json')"
   ]
  },
  {
   "cell_type": "code",
   "execution_count": 7,
   "id": "f105be14-8ef7-42de-90ea-3076eac12d6d",
   "metadata": {},
   "outputs": [
    {
     "data": {
      "text/html": [
       "<div>\n",
       "<style scoped>\n",
       "    .dataframe tbody tr th:only-of-type {\n",
       "        vertical-align: middle;\n",
       "    }\n",
       "\n",
       "    .dataframe tbody tr th {\n",
       "        vertical-align: top;\n",
       "    }\n",
       "\n",
       "    .dataframe thead th {\n",
       "        text-align: right;\n",
       "    }\n",
       "</style>\n",
       "<table border=\"1\" class=\"dataframe\">\n",
       "  <thead>\n",
       "    <tr style=\"text-align: right;\">\n",
       "      <th></th>\n",
       "      <th>Country Name</th>\n",
       "      <th>Country Code</th>\n",
       "      <th>Series Name</th>\n",
       "      <th>Series Code</th>\n",
       "      <th>Year</th>\n",
       "      <th>value</th>\n",
       "    </tr>\n",
       "  </thead>\n",
       "  <tbody>\n",
       "    <tr>\n",
       "      <th>0</th>\n",
       "      <td>Afghanistan</td>\n",
       "      <td>AFG</td>\n",
       "      <td>CO2 emissions (kg per 2015 US$ of GDP)</td>\n",
       "      <td>EN.ATM.CO2E.KD.GD</td>\n",
       "      <td>2008</td>\n",
       "      <td>0.378523</td>\n",
       "    </tr>\n",
       "    <tr>\n",
       "      <th>1</th>\n",
       "      <td>Afghanistan</td>\n",
       "      <td>AFG</td>\n",
       "      <td>GDP (constant 2015 US$)</td>\n",
       "      <td>NY.GDP.MKTP.KD</td>\n",
       "      <td>2008</td>\n",
       "      <td>11559778824.1227</td>\n",
       "    </tr>\n",
       "    <tr>\n",
       "      <th>2</th>\n",
       "      <td>Afghanistan</td>\n",
       "      <td>AFG</td>\n",
       "      <td>Urban population</td>\n",
       "      <td>SP.URB.TOTL</td>\n",
       "      <td>2008</td>\n",
       "      <td>6162823</td>\n",
       "    </tr>\n",
       "    <tr>\n",
       "      <th>3</th>\n",
       "      <td>Afghanistan</td>\n",
       "      <td>AFG</td>\n",
       "      <td>Rural population</td>\n",
       "      <td>SP.RUR.TOTL</td>\n",
       "      <td>2008</td>\n",
       "      <td>20264376</td>\n",
       "    </tr>\n",
       "    <tr>\n",
       "      <th>4</th>\n",
       "      <td>Afghanistan</td>\n",
       "      <td>AFG</td>\n",
       "      <td>Refugee population by country or territory of ...</td>\n",
       "      <td>SM.POP.REFG.OR</td>\n",
       "      <td>2008</td>\n",
       "      <td>2833116</td>\n",
       "    </tr>\n",
       "    <tr>\n",
       "      <th>...</th>\n",
       "      <td>...</td>\n",
       "      <td>...</td>\n",
       "      <td>...</td>\n",
       "      <td>...</td>\n",
       "      <td>...</td>\n",
       "      <td>...</td>\n",
       "    </tr>\n",
       "    <tr>\n",
       "      <th>16270</th>\n",
       "      <td>Zimbabwe</td>\n",
       "      <td>ZWE</td>\n",
       "      <td>CO2 emissions (kg per 2015 US$ of GDP)</td>\n",
       "      <td>EN.ATM.CO2E.KD.GD</td>\n",
       "      <td>2022</td>\n",
       "      <td>..</td>\n",
       "    </tr>\n",
       "    <tr>\n",
       "      <th>16271</th>\n",
       "      <td>Zimbabwe</td>\n",
       "      <td>ZWE</td>\n",
       "      <td>GDP (constant 2015 US$)</td>\n",
       "      <td>NY.GDP.MKTP.KD</td>\n",
       "      <td>2022</td>\n",
       "      <td>21319876649.226002</td>\n",
       "    </tr>\n",
       "    <tr>\n",
       "      <th>16272</th>\n",
       "      <td>Zimbabwe</td>\n",
       "      <td>ZWE</td>\n",
       "      <td>Urban population</td>\n",
       "      <td>SP.URB.TOTL</td>\n",
       "      <td>2022</td>\n",
       "      <td>5287038</td>\n",
       "    </tr>\n",
       "    <tr>\n",
       "      <th>16273</th>\n",
       "      <td>Zimbabwe</td>\n",
       "      <td>ZWE</td>\n",
       "      <td>Rural population</td>\n",
       "      <td>SP.RUR.TOTL</td>\n",
       "      <td>2022</td>\n",
       "      <td>11033499</td>\n",
       "    </tr>\n",
       "    <tr>\n",
       "      <th>16274</th>\n",
       "      <td>Zimbabwe</td>\n",
       "      <td>ZWE</td>\n",
       "      <td>Refugee population by country or territory of ...</td>\n",
       "      <td>SM.POP.REFG.OR</td>\n",
       "      <td>2022</td>\n",
       "      <td>7008</td>\n",
       "    </tr>\n",
       "  </tbody>\n",
       "</table>\n",
       "<p>16275 rows × 6 columns</p>\n",
       "</div>"
      ],
      "text/plain": [
       "      Country Name Country Code  \\\n",
       "0      Afghanistan          AFG   \n",
       "1      Afghanistan          AFG   \n",
       "2      Afghanistan          AFG   \n",
       "3      Afghanistan          AFG   \n",
       "4      Afghanistan          AFG   \n",
       "...            ...          ...   \n",
       "16270     Zimbabwe          ZWE   \n",
       "16271     Zimbabwe          ZWE   \n",
       "16272     Zimbabwe          ZWE   \n",
       "16273     Zimbabwe          ZWE   \n",
       "16274     Zimbabwe          ZWE   \n",
       "\n",
       "                                             Series Name        Series Code  \\\n",
       "0                 CO2 emissions (kg per 2015 US$ of GDP)  EN.ATM.CO2E.KD.GD   \n",
       "1                                GDP (constant 2015 US$)     NY.GDP.MKTP.KD   \n",
       "2                                       Urban population        SP.URB.TOTL   \n",
       "3                                       Rural population        SP.RUR.TOTL   \n",
       "4      Refugee population by country or territory of ...     SM.POP.REFG.OR   \n",
       "...                                                  ...                ...   \n",
       "16270             CO2 emissions (kg per 2015 US$ of GDP)  EN.ATM.CO2E.KD.GD   \n",
       "16271                            GDP (constant 2015 US$)     NY.GDP.MKTP.KD   \n",
       "16272                                   Urban population        SP.URB.TOTL   \n",
       "16273                                   Rural population        SP.RUR.TOTL   \n",
       "16274  Refugee population by country or territory of ...     SM.POP.REFG.OR   \n",
       "\n",
       "       Year               value  \n",
       "0      2008            0.378523  \n",
       "1      2008    11559778824.1227  \n",
       "2      2008             6162823  \n",
       "3      2008            20264376  \n",
       "4      2008             2833116  \n",
       "...     ...                 ...  \n",
       "16270  2022                  ..  \n",
       "16271  2022  21319876649.226002  \n",
       "16272  2022             5287038  \n",
       "16273  2022            11033499  \n",
       "16274  2022                7008  \n",
       "\n",
       "[16275 rows x 6 columns]"
      ]
     },
     "execution_count": 7,
     "metadata": {},
     "output_type": "execute_result"
    }
   ],
   "source": [
    "df2"
   ]
  },
  {
   "cell_type": "code",
   "execution_count": null,
   "metadata": {},
   "outputs": [],
   "source": []
  }
 ],
 "metadata": {
  "kernelspec": {
   "display_name": "Python 3 (ipykernel)",
   "language": "python",
   "name": "python3"
  },
  "language_info": {
   "codemirror_mode": {
    "name": "ipython",
    "version": 3
   },
   "file_extension": ".py",
   "mimetype": "text/x-python",
   "name": "python",
   "nbconvert_exporter": "python",
   "pygments_lexer": "ipython3",
   "version": "3.12.0"
  }
 },
 "nbformat": 4,
 "nbformat_minor": 5
}
